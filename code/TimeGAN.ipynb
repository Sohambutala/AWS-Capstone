{
 "cells": [
  {
   "cell_type": "code",
   "execution_count": null,
   "id": "97a7a0c0-bd8f-4eba-a3cc-9529dc799960",
   "metadata": {
    "tags": []
   },
   "outputs": [],
   "source": [
    "#!pip install ydata_synthetic"
   ]
  },
  {
   "cell_type": "code",
   "execution_count": null,
   "id": "cb7790f7-989f-484b-8596-4ec4f882c349",
   "metadata": {
    "tags": []
   },
   "outputs": [],
   "source": [
    "# !pip install tabulate\n",
    "# !pip install pyathena\n",
    "# !pip install ctgan"
   ]
  },
  {
   "cell_type": "code",
   "execution_count": null,
   "id": "20dbc236-7059-4662-83c6-b822ec4ef7d5",
   "metadata": {
    "tags": []
   },
   "outputs": [],
   "source": [
    "from pyathena import connect\n",
    "from pyathena.pandas.cursor import PandasCursor\n",
    "import pandas as pd\n",
    "import numpy as np"
   ]
  },
  {
   "cell_type": "code",
   "execution_count": null,
   "id": "ec409d4b-0170-4f8f-85ac-d386b309a27d",
   "metadata": {
    "tags": []
   },
   "outputs": [],
   "source": [
    "class TrafficDataDC:\n",
    "    \n",
    "    def __init__(self, date = None, limit = 0):\n",
    "\n",
    "        self.query = f\"select * from uwdatascience2023.full_harddrivetraffic \"\n",
    "        if date:\n",
    "            self.query += f\"WHERE month_end = date('{date}') \"\n",
    "        if limit != 0:\n",
    "            self.query += \"limit \"+str(limit)\n",
    "        \n",
    "        \n",
    "        print(\"Executing \\n\", self.query)\n",
    "    \n",
    "    def run_athena_query(self, print_out=False):\n",
    "        cursor = connect(\n",
    "            region_name='us-west-2',\n",
    "            work_group=\"primary\",\n",
    "            cursor_class=PandasCursor).cursor()\n",
    "\n",
    "        self.df = cursor.execute(self.query).as_pandas()\n",
    "\n",
    "        if print_out:\n",
    "            print(self.df.to_markdown(index=False))\n",
    "    \n",
    "    def fill_data(self):\n",
    "        self.df = self.df.sort_values(by=['chunk_id','timestamp_nano'])\n",
    "        self.df['container_group'] = self.df.groupby('chunk_id')['container_group'].ffill()\n",
    "        self.df['container_encoding'] = self.df.groupby('chunk_id')['container_encoding'].ffill()\n",
    "        self.df['chunk_size'] = self.df.groupby('chunk_id')['chunk_size'].ffill()\n",
    "        self.df.dropna(inplace=True)\n",
    "\n",
    "    def convert_date(self, col = 'timestamp_nano', unit = 'ns', new_col = 'datetime'):\n",
    "        self.df[new_col] = pd.to_datetime(self.df[col], unit=unit)\n",
    "        self.df.drop(columns=[col], inplace=True)\n",
    "\n",
    "    def drop_col(self, cols = ['month_end']):\n",
    "        self.df.drop(columns=cols, inplace=True)\n",
    "\n",
    "    def convert_chunk_int(self, col = 'chunk_size'):\n",
    "        self.df[col] = self.df[col].astype(int)\n",
    "        \n",
    "    def process(self):\n",
    "        self.fill_data()\n",
    "        self.convert_date()\n",
    "        self.drop_col()\n",
    "        self.convert_chunk_int()"
   ]
  },
  {
   "cell_type": "code",
   "execution_count": null,
   "id": "c00a5034-32ce-4e4c-a682-90f23b3eda57",
   "metadata": {
    "tags": []
   },
   "outputs": [],
   "source": [
    "s3_traffic = TrafficDataDC(date=\"2022-02-28\", limit = 10000)\n",
    "s3_traffic.run_athena_query(print_out=False)"
   ]
  },
  {
   "cell_type": "code",
   "execution_count": null,
   "id": "59254a51-8237-4fb8-85e9-aa98021500b7",
   "metadata": {
    "tags": []
   },
   "outputs": [],
   "source": [
    "s3_traffic.process()"
   ]
  },
  {
   "cell_type": "code",
   "execution_count": null,
   "id": "f72d24c0-2dab-4f45-be2a-ae4ba4cce473",
   "metadata": {
    "tags": []
   },
   "outputs": [],
   "source": [
    "len(s3_traffic.df)"
   ]
  },
  {
   "cell_type": "code",
   "execution_count": null,
   "id": "b4cd300b-6f44-4205-bb13-73693f06ef2b",
   "metadata": {
    "tags": []
   },
   "outputs": [],
   "source": [
    "s3_traffic.df"
   ]
  },
  {
   "cell_type": "code",
   "execution_count": null,
   "id": "61f54aa0-ea3b-45ee-a9ba-144be4a3d261",
   "metadata": {
    "tags": []
   },
   "outputs": [],
   "source": [
    "# Importing the required libs for the exercise\n",
    "\n",
    "from os import path\n",
    "import pandas as pd\n",
    "import numpy as np\n",
    "import matplotlib.pyplot as plt\n",
    "\n",
    "from ydata_synthetic.synthesizers import ModelParameters, TrainParameters\n",
    "from ydata_synthetic.preprocessing.timeseries import processed_stock\n",
    "from ydata_synthetic.synthesizers.timeseries import TimeSeriesSynthesizer"
   ]
  },
  {
   "cell_type": "code",
   "execution_count": null,
   "id": "5d0dda07-6ea5-45a6-b99d-dbd15e552e7b",
   "metadata": {
    "tags": []
   },
   "outputs": [],
   "source": [
    "# Specific to TimeGANs\n",
    "seq_len = 24\n",
    "n_seq = 6\n",
    "hidden_dim = 24\n",
    "gamma = 1\n",
    "\n",
    "noise_dim = 32\n",
    "dim = 128\n",
    "batch_size = 128\n",
    "\n",
    "log_step = 100\n",
    "learning_rate = 5e-4\n",
    "# For quick prototyping\n",
    "# epochs=50000\n",
    "epochs = 10\n",
    "\n",
    "gan_args = ModelParameters(\n",
    "    batch_size=batch_size, lr=learning_rate, noise_dim=noise_dim, layers_dim=dim\n",
    ")\n",
    "\n",
    "train_args = TrainParameters(\n",
    "    epochs=epochs, sequence_length=seq_len, number_sequences=n_seq\n",
    ")"
   ]
  },
  {
   "cell_type": "code",
   "execution_count": null,
   "id": "d4cce05c-6763-4a6b-8288-467e9bf9eda7",
   "metadata": {
    "tags": []
   },
   "outputs": [],
   "source": [
    "df = s3_traffic.df.copy()\n",
    "len(df)"
   ]
  },
  {
   "cell_type": "code",
   "execution_count": null,
   "id": "82b5a268-2ec5-4766-8ab9-2fd391fe1bca",
   "metadata": {
    "tags": []
   },
   "outputs": [],
   "source": [
    "train_percentage = 0.70\n",
    "split_index = int(len(df) * train_percentage)\n",
    "train_data = df.iloc[:split_index, :]"
   ]
  },
  {
   "cell_type": "code",
   "execution_count": null,
   "id": "6b6f535f-7c0c-46a1-ac5b-423a2a0a3e94",
   "metadata": {
    "tags": []
   },
   "outputs": [],
   "source": [
    "df.drop(['datetime'], axis=1, inplace = True)"
   ]
  },
  {
   "cell_type": "code",
   "execution_count": null,
   "id": "c659494b-51b6-43f7-887a-bbbccf9285ba",
   "metadata": {
    "tags": []
   },
   "outputs": [],
   "source": [
    "num_cols = ['chunk_size']\n",
    "cat_cols = ['location_id', 'server_id', 'config_id', 'disk_id', 'container_id', 'container_group', 'container_encoding', 'operation', 'chunk_id']"
   ]
  },
  {
   "cell_type": "code",
   "execution_count": null,
   "id": "6328c22e-3d64-4f97-8f2f-ece3dd8919de",
   "metadata": {
    "tags": []
   },
   "outputs": [],
   "source": [
    "cols = list(df.columns)"
   ]
  },
  {
   "cell_type": "code",
   "execution_count": null,
   "id": "0078d2d1-609e-4f69-9595-6956b53812d6",
   "metadata": {
    "tags": []
   },
   "outputs": [],
   "source": [
    "df.shape"
   ]
  },
  {
   "cell_type": "code",
   "execution_count": null,
   "id": "3146b423-30b1-4f55-877a-7a52f83f8eda",
   "metadata": {
    "tags": []
   },
   "outputs": [],
   "source": [
    "if path.exists(\"timegan_temp.pkl\"):\n",
    "    synth = TimeSeriesSynthesizer.load(\"timegan_temp.pkl\")\n",
    "else:\n",
    "    synth = TimeSeriesSynthesizer(modelname=\"timegan\", model_parameters=gan_args)\n",
    "    synth.fit(df, train_args, num_cols=cols)\n",
    "    synth.save(\"timegan_temp.pkl\")"
   ]
  }
 ],
 "metadata": {
  "kernelspec": {
   "display_name": "conda_python3",
   "language": "python",
   "name": "conda_python3"
  },
  "language_info": {
   "codemirror_mode": {
    "name": "ipython",
    "version": 3
   },
   "file_extension": ".py",
   "mimetype": "text/x-python",
   "name": "python",
   "nbconvert_exporter": "python",
   "pygments_lexer": "ipython3",
   "version": "3.10.13"
  }
 },
 "nbformat": 4,
 "nbformat_minor": 5
}
