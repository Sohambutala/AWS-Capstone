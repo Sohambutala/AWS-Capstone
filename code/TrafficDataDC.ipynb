{
 "cells": [
  {
   "cell_type": "code",
   "execution_count": null,
   "id": "48531859",
   "metadata": {
    "tags": []
   },
   "outputs": [],
   "source": [
    "!pip install tabulate\n",
    "!pip install pyathena"
   ]
  },
  {
   "cell_type": "code",
   "execution_count": null,
   "id": "d8df09ce",
   "metadata": {
    "tags": []
   },
   "outputs": [],
   "source": [
    "import pandas as pd\n",
    "import numpy as np\n",
    "import pickle\n",
    "from pyathena import connect\n",
    "from pyathena.pandas.cursor import PandasCursor"
   ]
  },
  {
   "cell_type": "code",
   "execution_count": null,
   "id": "21212ac5",
   "metadata": {
    "tags": []
   },
   "outputs": [],
   "source": [
    "class TrafficDataDC:\n",
    "        \n",
    "    def run_query(self, date=None, limit=0, table_name = 'uwdatascience2023.full_harddrivetraffic'):\n",
    "        self.query = f\"select * from {table_name} \"\n",
    "        if date:\n",
    "            self.query += f\"WHERE month_end = date('{date}') \"\n",
    "        if limit != 0:\n",
    "            self.query += \"limit \"+str(limit)\n",
    "        print(\"Executing \\n\", self.query)\n",
    "        \n",
    "        self.run_athena_query(print_out=False)\n",
    "\n",
    "    def run_athena_query(self, print_out=False):\n",
    "        cursor = connect(\n",
    "            region_name='us-west-2',\n",
    "            work_group=\"primary\",\n",
    "            cursor_class=PandasCursor).cursor()\n",
    "\n",
    "        self.df = cursor.execute(self.query).as_pandas()\n",
    "\n",
    "        if print_out:\n",
    "            print(self.df.to_markdown(index=False))\n",
    "\n",
    "    def fill_data(self):\n",
    "        self.df = self.df.sort_values(by=['chunk_id', 'timestamp_nano'])\n",
    "        self.df['container_group'] = self.df.groupby('chunk_id')['container_group'].ffill()\n",
    "        self.df['container_encoding'] = self.df.groupby('chunk_id')['container_encoding'].ffill()\n",
    "        self.df['chunk_size'] = self.df.groupby('chunk_id')['chunk_size'].ffill()\n",
    "        self.df.dropna(inplace=True)\n",
    "\n",
    "    def convert_date(self, col = 'timestamp_nano', unit = 'ns', new_col = 'datetime'):\n",
    "        self.df[new_col] = pd.to_datetime(self.df[col], unit=unit)\n",
    "        self.drop_col(cols=[col])\n",
    "\n",
    "    def drop_col(self, cols = []):\n",
    "        self.df.drop(columns=cols, inplace=True)\n",
    "\n",
    "    def convert_chunk_int(self, col = 'chunk_size'):\n",
    "        self.df[col] = self.df[col].astype(int)\n",
    "        \n",
    "    def filter_rows(self, date):\n",
    "        cutoff_date = pd.to_datetime(date)\n",
    "        # Filter rows where the date is less than or equal to the cutoff_date\n",
    "        self.df = self.df[self.df['datetime'] >= cutoff_date]\n",
    "        \n",
    "    def process(self):\n",
    "        self.fill_data()\n",
    "        self.convert_date()\n",
    "        self.drop_col()\n",
    "        self.filter_rows('2021-01-01')\n",
    "        self.convert_chunk_int()\n",
    "        \n",
    "    def save_model(self, filename='TrafficDataDC.pickle'):\n",
    "        with open(filename, 'wb') as f:\n",
    "            pickle.dump(self, f)"
   ]
  },
  {
   "cell_type": "code",
   "execution_count": null,
   "id": "75665a54",
   "metadata": {
    "tags": []
   },
   "outputs": [],
   "source": [
    "s3_traffic = TrafficDataDC()\n",
    "s3_traffic.run_query(date=\"2022-01-31\", limit = 300000)"
   ]
  },
  {
   "cell_type": "code",
   "execution_count": null,
   "id": "4d764210",
   "metadata": {
    "tags": []
   },
   "outputs": [],
   "source": [
    "s3_traffic.process()"
   ]
  },
  {
   "cell_type": "code",
   "execution_count": null,
   "id": "f314a4f8",
   "metadata": {
    "tags": []
   },
   "outputs": [],
   "source": [
    "print(len(s3_traffic.df))"
   ]
  },
  {
   "cell_type": "code",
   "execution_count": null,
   "id": "b2af8258",
   "metadata": {
    "tags": []
   },
   "outputs": [],
   "source": [
    "s3_traffic.df"
   ]
  },
  {
   "cell_type": "code",
   "execution_count": null,
   "id": "c8a10c49-d90c-405e-b484-bf8b44757139",
   "metadata": {
    "tags": []
   },
   "outputs": [],
   "source": [
    "s3_traffic.save_model()"
   ]
  },
  {
   "cell_type": "code",
   "execution_count": null,
   "id": "be944ed3-4e79-4f0e-8f39-74587f025152",
   "metadata": {},
   "outputs": [],
   "source": []
  }
 ],
 "metadata": {
  "kernelspec": {
   "display_name": "conda_python3",
   "language": "python",
   "name": "conda_python3"
  },
  "language_info": {
   "codemirror_mode": {
    "name": "ipython",
    "version": 3
   },
   "file_extension": ".py",
   "mimetype": "text/x-python",
   "name": "python",
   "nbconvert_exporter": "python",
   "pygments_lexer": "ipython3",
   "version": "3.10.13"
  }
 },
 "nbformat": 4,
 "nbformat_minor": 5
}
