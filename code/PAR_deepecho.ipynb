{
 "cells": [
  {
   "cell_type": "markdown",
   "id": "02bc1685",
   "metadata": {},
   "source": [
    "# PAR (DeepEcho) Implementation"
   ]
  },
  {
   "cell_type": "code",
   "execution_count": null,
   "id": "39d26561",
   "metadata": {},
   "outputs": [],
   "source": [
    "!pip install table_evaluator\n",
    "!pip install tabulate\n",
    "!pip install pyathena\n",
    "!pip install sdv\n",
    "!pip install deepecho"
   ]
  },
  {
   "cell_type": "code",
   "execution_count": null,
   "id": "c77b8d16",
   "metadata": {},
   "outputs": [],
   "source": [
    "from pyathena import connect\n",
    "from pyathena.pandas.cursor import PandasCursor\n",
    "import pandas as pd\n",
    "import torch\n",
    "import numpy as np"
   ]
  },
  {
   "cell_type": "code",
   "execution_count": null,
   "id": "a23141c2",
   "metadata": {},
   "outputs": [],
   "source": [
    "class TrafficDataDC:\n",
    "    \n",
    "    def __init__(self, date = None, limit = 0):\n",
    "\n",
    "        self.query = f\"select * from uwdatascience2023.full_harddrivetraffic \"\n",
    "        if date:\n",
    "            self.query += f\"WHERE month_end = date('{date}') \"\n",
    "        if limit != 0:\n",
    "            self.query += \"limit \"+str(limit)\n",
    "        \n",
    "        \n",
    "        print(\"Executing \\n\", self.query)\n",
    "    \n",
    "    def run_athena_query(self, print_out=False):\n",
    "        cursor = connect(\n",
    "            region_name='us-west-2',\n",
    "            work_group=\"primary\",\n",
    "            cursor_class=PandasCursor).cursor()\n",
    "\n",
    "        self.df = cursor.execute(self.query).as_pandas()\n",
    "\n",
    "        if print_out:\n",
    "            print(self.df.to_markdown(index=False))\n",
    "    \n",
    "    def fill_data(self):\n",
    "        self.df = self.df.sort_values(by=['chunk_id','timestamp_nano'])\n",
    "        self.df['container_group'] = self.df.groupby('chunk_id')['container_group'].ffill()\n",
    "        self.df['container_encoding'] = self.df.groupby('chunk_id')['container_encoding'].ffill()\n",
    "        self.df['chunk_size'] = self.df.groupby('chunk_id')['chunk_size'].ffill()\n",
    "        self.df.dropna(inplace=True)\n",
    "\n",
    "    def convert_date(self, col = 'timestamp_nano', unit = 'ns', new_col = 'datetime'):\n",
    "        self.df[new_col] = pd.to_datetime(self.df[col], unit=unit)\n",
    "        self.df.drop(columns=[col], inplace=True)\n",
    "\n",
    "    def drop_col(self, cols = ['month_end']):\n",
    "        self.df.drop(columns=cols, inplace=True)\n",
    "\n",
    "    def convert_chunk_int(self, col = 'chunk_size'):\n",
    "        self.df[col] = self.df[col].astype(int)\n",
    "        \n",
    "    def process(self):\n",
    "        self.fill_data()\n",
    "        self.convert_date()\n",
    "        self.drop_col()\n",
    "        self.convert_chunk_int()\n"
   ]
  },
  {
   "cell_type": "code",
   "execution_count": null,
   "id": "2e831db3",
   "metadata": {},
   "outputs": [],
   "source": [
    "s3_traffic = TrafficDataDC(date=\"2022-01-31\", limit = 1000000)\n",
    "s3_traffic.run_athena_query(print_out=False)"
   ]
  },
  {
   "cell_type": "code",
   "execution_count": null,
   "id": "66b7e0c9",
   "metadata": {},
   "outputs": [],
   "source": [
    "s3_traffic.process()"
   ]
  },
  {
   "cell_type": "code",
   "execution_count": null,
   "id": "fd246d88",
   "metadata": {},
   "outputs": [],
   "source": [
    "s3_traffic.df"
   ]
  },
  {
   "cell_type": "code",
   "execution_count": null,
   "id": "8f23de08",
   "metadata": {},
   "outputs": [],
   "source": [
    "train_percentage = 0.003\n",
    "split_index = int(len(s3_traffic.df) * train_percentage)\n",
    "train_data = s3_traffic.df.iloc[:split_index, :]"
   ]
  },
  {
   "cell_type": "code",
   "execution_count": null,
   "id": "e97e8c4c",
   "metadata": {},
   "outputs": [],
   "source": [
    "train_data"
   ]
  },
  {
   "cell_type": "code",
   "execution_count": null,
   "id": "f71e7dd0",
   "metadata": {},
   "outputs": [],
   "source": [
    "# Deep Echo\n",
    "\n",
    "from deepecho import PARModel\n",
    "from deepecho.demo import load_demo"
   ]
  },
  {
   "cell_type": "code",
   "execution_count": null,
   "id": "be2bba12",
   "metadata": {},
   "outputs": [],
   "source": [
    "data_types = {\n",
    "#     'record_id': 'categorical',\n",
    "#     'location_id': 'categorical',\n",
    "#     'server_id': 'categorical',\n",
    "#     'config_id': 'categorical',\n",
    "#     'disk_id': 'categorical',\n",
    "#     'disk_capacity_tb': 'categorical',\n",
    "#     'container_group': 'categorical',\n",
    "#     'container_encoding': 'categorical',\n",
    "    'operation': 'categorical',\n",
    "    'chunk_id': 'ordinal',\n",
    "    'chunk_size': 'continuous',\n",
    "    'datetime': 'datetime'\n",
    "}"
   ]
  },
  {
   "cell_type": "code",
   "execution_count": null,
   "id": "fa7c54a1",
   "metadata": {},
   "outputs": [],
   "source": [
    "entity_columns = ['container_id']\n",
    "\n",
    "for _, group in list(train_data.groupby(entity_columns))[0:2]:\n",
    "    display(group)"
   ]
  },
  {
   "cell_type": "code",
   "execution_count": null,
   "id": "ab3cbd1f",
   "metadata": {},
   "outputs": [],
   "source": [
    "model = PARModel(epochs=10, cuda=False)"
   ]
  },
  {
   "cell_type": "code",
   "execution_count": null,
   "id": "0a9e863a",
   "metadata": {},
   "outputs": [],
   "source": [
    "model.fit(\n",
    "    data=train_data,\n",
    "    entity_columns=['container_id'],\n",
    "    #context_columns=['container_group'],#,'chunk_id','disk_capacity_tb'],\n",
    "    data_types=data_types,\n",
    "    sequence_index='datetime'\n",
    ")"
   ]
  },
  {
   "cell_type": "code",
   "execution_count": null,
   "id": "5957fd4a",
   "metadata": {},
   "outputs": [],
   "source": [
    "# Sample new data\n",
    "model.sample(num_entities=5)"
   ]
  }
 ],
 "metadata": {
  "kernelspec": {
   "display_name": "conda_python3",
   "language": "python",
   "name": "conda_python3"
  },
  "language_info": {
   "codemirror_mode": {
    "name": "ipython",
    "version": 3
   },
   "file_extension": ".py",
   "mimetype": "text/x-python",
   "name": "python",
   "nbconvert_exporter": "python",
   "pygments_lexer": "ipython3",
   "version": "3.10.13"
  }
 },
 "nbformat": 4,
 "nbformat_minor": 5
}
