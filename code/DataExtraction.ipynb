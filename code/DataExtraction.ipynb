{
 "cells": [
  {
   "cell_type": "code",
   "execution_count": null,
   "id": "2e6a56a1-8bc8-4308-89f1-865379ff252a",
   "metadata": {
    "tags": []
   },
   "outputs": [],
   "source": [
    "!pip install tabulate\n",
    "!pip install pyathena"
   ]
  },
  {
   "cell_type": "code",
   "execution_count": null,
   "id": "9f8fb0fb-4b17-4015-add4-0dea8f3f3e19",
   "metadata": {
    "tags": []
   },
   "outputs": [],
   "source": [
    "from pyathena import connect\n",
    "from pyathena.pandas.cursor import PandasCursor\n",
    "import pandas as pd\n",
    "import numpy as np\n",
    "from datetime import datetime, timedelta\n",
    "import random"
   ]
  },
  {
   "cell_type": "code",
   "execution_count": null,
   "id": "a60c4f24-2fa7-4172-acab-7af57fcdb8c4",
   "metadata": {
    "tags": []
   },
   "outputs": [],
   "source": [
    "class TrafficDataDC:\n",
    "    \n",
    "    def __init__(self, date = None, limit = 0):\n",
    "\n",
    "        self.query = f\"select disk_capacity_tb, container_group, chunk_id, timestamp_nano from uwdatascience2023.full_harddrivetraffic \"\n",
    "        if date:\n",
    "            self.query += f\"WHERE month_end = date('{date}') \"\n",
    "        if limit != 0:\n",
    "            self.query += \"limit \"+str(limit)\n",
    "        \n",
    "        \n",
    "        print(\"Executing \\n\", self.query)\n",
    "    \n",
    "    def run_athena_query(self, print_out=False):\n",
    "        cursor = connect(\n",
    "            region_name='us-west-2',\n",
    "            work_group=\"primary\",\n",
    "            cursor_class=PandasCursor).cursor()\n",
    "\n",
    "        self.df = cursor.execute(self.query).as_pandas()\n",
    "\n",
    "        if print_out:\n",
    "            print(self.df.to_markdown(index=False))\n",
    "        print(f\"length of DF : {len(self.df)}\")\n",
    "    \n",
    "    def fill_data(self):        \n",
    "        self.df['container_group'] = self.df.groupby('chunk_id')['container_group'].ffill()\n",
    "        # self.df['container_encoding'] = self.df.groupby('chunk_id')['container_encoding'].ffill()\n",
    "        # self.df['chunk_size'] = self.df.groupby('chunk_id')['chunk_size'].ffill()\n",
    "        self.df = self.df.sort_values(by=['timestamp_nano'])\n",
    "        self.df.dropna(inplace=True)\n",
    "\n",
    "    def convert_date(self, col = 'timestamp_nano', unit = 'ns', new_col = 'datetime'):\n",
    "        self.df[new_col] = pd.to_datetime(self.df[col], unit=unit)\n",
    "        self.df.drop(columns=[col], inplace=True)\n",
    "\n",
    "    def drop_col(self, cols = []):\n",
    "        self.df.drop(columns=cols, inplace=True)\n",
    "\n",
    "    def convert_chunk_int(self, col = 'chunk_size'):\n",
    "        self.df[col] = self.df[col].astype(int)\n",
    "        \n",
    "    def filter_rows(self, date):\n",
    "        cutoff_date = pd.to_datetime(date)\n",
    "        # Filter rows where the date is less than or equal to the cutoff_date\n",
    "        self.df = self.df[self.df['datetime'] >= cutoff_date]\n",
    "        \n",
    "    def process(self):\n",
    "        self.fill_data()\n",
    "        self.convert_date()\n",
    "        # self.drop_col()\n",
    "        self.filter_rows('2021-01-01')\n",
    "        # self.convert_chunk_int()"
   ]
  },
  {
   "cell_type": "code",
   "execution_count": null,
   "id": "90ea4995-ca9d-422f-984d-d228f92d49fa",
   "metadata": {
    "tags": []
   },
   "outputs": [],
   "source": [
    "from tqdm import tqdm\n",
    "import os\n",
    "\n",
    "dates = [\n",
    "'2022-01-31',\n",
    "'2022-02-28',\n",
    "'2022-03-31',\n",
    "'2022-04-30',\n",
    "'2022-05-31',\n",
    "'2022-06-30',\n",
    "'2022-07-31',\n",
    "'2022-08-31',\n",
    "'2022-09-30',\n",
    "'2022-10-31',\n",
    "'2022-11-30',\n",
    "'2022-12-31'\n",
    "]\n",
    "\n",
    "output_directory = \"./traffic_data\"\n",
    "os.makedirs(output_directory, exist_ok=True)\n",
    "\n",
    "for index in tqdm(range(0, len(dates), 1), desc=\"Processing dates\"):\n",
    "    try:\n",
    "        s3_traffic = TrafficDataDC(date=dates[index], limit = 0)\n",
    "        s3_traffic.run_athena_query(print_out=False)\n",
    "        s3_traffic.process()\n",
    "        filename = f\"{output_directory}/traffic_data_{dates[index]}.csv\"\n",
    "        s3_traffic.df.to_csv(filename, index=False)\n",
    "        print(f\"Data for {dates[index]} saved successfully.\")\n",
    "    except Exception as e:\n",
    "        print(f\"An error occurred for date {dates[index]}: {e}\")\n",
    "    finally:\n",
    "        del s3_traffic"
   ]
  },
  {
   "cell_type": "code",
   "execution_count": null,
   "id": "faf0f1ba-8b90-4a33-9625-5266d4e2a424",
   "metadata": {},
   "outputs": [],
   "source": []
  }
 ],
 "metadata": {
  "kernelspec": {
   "display_name": "conda_python3",
   "language": "python",
   "name": "conda_python3"
  },
  "language_info": {
   "codemirror_mode": {
    "name": "ipython",
    "version": 3
   },
   "file_extension": ".py",
   "mimetype": "text/x-python",
   "name": "python",
   "nbconvert_exporter": "python",
   "pygments_lexer": "ipython3",
   "version": "3.10.13"
  }
 },
 "nbformat": 4,
 "nbformat_minor": 5
}
