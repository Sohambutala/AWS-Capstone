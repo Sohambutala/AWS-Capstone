{
 "cells": [
  {
   "cell_type": "code",
   "execution_count": null,
   "id": "3b919efb-8038-4aca-b10c-01fd50b6f250",
   "metadata": {
    "tags": []
   },
   "outputs": [],
   "source": [
    "#!pip install ydata-synthetic==1.3.1"
   ]
  },
  {
   "cell_type": "code",
   "execution_count": null,
   "id": "eac9b5d5-5343-409f-a9c8-1791e3ec61f2",
   "metadata": {
    "tags": []
   },
   "outputs": [],
   "source": [
    "# !pip install tabulate\n",
    "# !pip install pyathena"
   ]
  },
  {
   "cell_type": "code",
   "execution_count": null,
   "id": "408e976d-c745-4ac9-89ac-b84ee54404d8",
   "metadata": {
    "tags": []
   },
   "outputs": [],
   "source": [
    "# Importing the necessay modules\n",
    "import pandas as pd\n",
    "import matplotlib.pyplot as plt\n",
    "from ydata_synthetic.synthesizers.timeseries import TimeSeriesSynthesizer\n",
    "from ydata_synthetic.synthesizers import ModelParameters, TrainParameters"
   ]
  },
  {
   "cell_type": "markdown",
   "id": "59cc9335-29cb-44be-8a6f-0c46ab1db46c",
   "metadata": {},
   "source": [
    "## Get the data"
   ]
  },
  {
   "cell_type": "code",
   "execution_count": null,
   "id": "873c4795-16aa-4867-8cea-f8986aa92fc4",
   "metadata": {
    "tags": []
   },
   "outputs": [],
   "source": [
    "from pyathena import connect\n",
    "from pyathena.pandas.cursor import PandasCursor\n",
    "import pandas as pd\n",
    "import numpy as np"
   ]
  },
  {
   "cell_type": "code",
   "execution_count": null,
   "id": "87c71a06-93d0-442b-8c74-d296b01f6352",
   "metadata": {
    "tags": []
   },
   "outputs": [],
   "source": [
    "class TrafficDataDC:\n",
    "    \n",
    "    def __init__(self, date = None, limit = 0):\n",
    "\n",
    "        self.query = f\"select * from uwdatascience2023.full_harddrivetraffic \"\n",
    "        if date:\n",
    "            self.query += f\"WHERE month_end = date('{date}') \"\n",
    "        if limit != 0:\n",
    "            self.query += \"limit \"+str(limit)\n",
    "        \n",
    "        \n",
    "        print(\"Executing \\n\", self.query)\n",
    "    \n",
    "    def run_athena_query(self, print_out=False):\n",
    "        cursor = connect(\n",
    "            region_name='us-west-2',\n",
    "            work_group=\"primary\",\n",
    "            cursor_class=PandasCursor).cursor()\n",
    "\n",
    "        self.df = cursor.execute(self.query).as_pandas()\n",
    "\n",
    "        if print_out:\n",
    "            print(self.df.to_markdown(index=False))\n",
    "    \n",
    "    def fill_data(self):\n",
    "        self.df = self.df.sort_values(by=['chunk_id','timestamp_nano'])\n",
    "        self.df['container_group'] = self.df.groupby('chunk_id')['container_group'].ffill()\n",
    "        self.df['container_encoding'] = self.df.groupby('chunk_id')['container_encoding'].ffill()\n",
    "        self.df['chunk_size'] = self.df.groupby('chunk_id')['chunk_size'].ffill()\n",
    "        self.df.dropna(inplace=True)\n",
    "\n",
    "    def convert_date(self, col = 'timestamp_nano', unit = 'ns', new_col = 'datetime'):\n",
    "        self.df[new_col] = pd.to_datetime(self.df[col], unit=unit)\n",
    "        self.df.drop(columns=[col], inplace=True)\n",
    "\n",
    "    def drop_col(self, cols = ['month_end']):\n",
    "        self.df.drop(columns=cols, inplace=True)\n",
    "\n",
    "    def convert_chunk_int(self, col = 'chunk_size'):\n",
    "        self.df[col] = self.df[col].astype(int)\n",
    "        \n",
    "    def process(self):\n",
    "        self.fill_data()\n",
    "        self.convert_date()\n",
    "        self.drop_col()\n",
    "        self.convert_chunk_int()"
   ]
  },
  {
   "cell_type": "code",
   "execution_count": null,
   "id": "d8c8969a-e380-453c-af2a-3f84e6d47d0e",
   "metadata": {
    "tags": []
   },
   "outputs": [],
   "source": [
    "s3_traffic = TrafficDataDC(date=\"2022-02-28\", limit = 200000)\n",
    "s3_traffic.run_athena_query(print_out=False)"
   ]
  },
  {
   "cell_type": "code",
   "execution_count": null,
   "id": "7ce70bfb-9c64-4042-b60b-573fdd30d632",
   "metadata": {
    "tags": []
   },
   "outputs": [],
   "source": [
    "s3_traffic.process()"
   ]
  },
  {
   "cell_type": "code",
   "execution_count": null,
   "id": "b11416bf-5b33-4b12-ad4c-b75497edb127",
   "metadata": {
    "tags": []
   },
   "outputs": [],
   "source": [
    "len(s3_traffic.df)"
   ]
  },
  {
   "cell_type": "markdown",
   "id": "e1bae115-3798-4e0c-aa15-46bd088a3a1a",
   "metadata": {},
   "source": [
    "## Training DoppelGanger"
   ]
  },
  {
   "cell_type": "code",
   "execution_count": null,
   "id": "72697e3e-f95f-4a8a-aa84-5addb0d9fb9b",
   "metadata": {
    "tags": []
   },
   "outputs": [],
   "source": [
    "df = s3_traffic.df.copy()\n",
    "df.drop(['datetime'], axis=1, inplace = True)\n",
    "df.shape"
   ]
  },
  {
   "cell_type": "code",
   "execution_count": null,
   "id": "76b89055-45ce-456f-b898-f0204205a7b2",
   "metadata": {
    "tags": []
   },
   "outputs": [],
   "source": [
    "df = df.iloc[:33600//10]"
   ]
  },
  {
   "cell_type": "code",
   "execution_count": null,
   "id": "c0330be7-376f-4de3-b76f-19da07288c3d",
   "metadata": {
    "tags": []
   },
   "outputs": [],
   "source": [
    "#df.shape"
   ]
  },
  {
   "cell_type": "code",
   "execution_count": null,
   "id": "b5653cb4-dbcb-4ade-a18d-a623e9906c1f",
   "metadata": {
    "tags": []
   },
   "outputs": [],
   "source": [
    "df.head(20)"
   ]
  },
  {
   "cell_type": "code",
   "execution_count": null,
   "id": "04ae427d-0be0-44dc-a8cd-fa59e49bcbde",
   "metadata": {
    "tags": []
   },
   "outputs": [],
   "source": [
    "df.dtypes"
   ]
  },
  {
   "cell_type": "code",
   "execution_count": null,
   "id": "72744ad7-4c81-4c5f-84a4-2aa47ff3539d",
   "metadata": {
    "tags": []
   },
   "outputs": [],
   "source": [
    "df['container_id'] = df['container_id'].astype(str)\n",
    "df['operation'] = df['operation'].astype(str)\n",
    "df['chunk_id'] = df['chunk_id'].astype(str)"
   ]
  },
  {
   "cell_type": "code",
   "execution_count": null,
   "id": "dbbd51e6-ec69-4ca7-86dd-c2a47cb3f503",
   "metadata": {
    "tags": []
   },
   "outputs": [],
   "source": [
    "numerical_cols = ['chunk_size']\n",
    "categorical_cols = [col for col in df.columns if col not in numerical_cols]"
   ]
  },
  {
   "cell_type": "code",
   "execution_count": null,
   "id": "3dd52151-65e6-4278-be16-e755ec64170a",
   "metadata": {
    "tags": []
   },
   "outputs": [],
   "source": [
    "# Defining model and training parameters\n",
    "model_args = ModelParameters(batch_size=100,\n",
    "                             lr=0.001,\n",
    "                             betas=(0.2, 0.9),\n",
    "                             latent_dim=20,\n",
    "                             gp_lambda=1,\n",
    "                             pac=1)\n",
    "\n",
    "train_args = TrainParameters(epochs=400,\n",
    "                             sequence_length=20,\n",
    "                             sample_length=10,\n",
    "                             rounds=1,\n",
    "                             measurement_cols=['chunk_size'])"
   ]
  },
  {
   "cell_type": "code",
   "execution_count": null,
   "id": "34566ba4-b156-4c36-ad72-06e3115571d4",
   "metadata": {
    "tags": []
   },
   "outputs": [],
   "source": [
    "# Training the DoppelGANger synthesizer\n",
    "model_dop_gan = TimeSeriesSynthesizer(modelname='doppelganger',\n",
    "                                      model_parameters=model_args)\n"
   ]
  },
  {
   "cell_type": "code",
   "execution_count": null,
   "id": "4b7bcdcf-8223-4a4a-b870-c1c5397df630",
   "metadata": {
    "tags": []
   },
   "outputs": [],
   "source": [
    "model_dop_gan.fit(df, train_args, num_cols=numerical_cols, \n",
    "                  cat_cols=categorical_cols)"
   ]
  }
 ],
 "metadata": {
  "kernelspec": {
   "display_name": "conda_pytorch_p310",
   "language": "python",
   "name": "conda_pytorch_p310"
  },
  "language_info": {
   "codemirror_mode": {
    "name": "ipython",
    "version": 3
   },
   "file_extension": ".py",
   "mimetype": "text/x-python",
   "name": "python",
   "nbconvert_exporter": "python",
   "pygments_lexer": "ipython3",
   "version": "3.10.13"
  }
 },
 "nbformat": 4,
 "nbformat_minor": 5
}
