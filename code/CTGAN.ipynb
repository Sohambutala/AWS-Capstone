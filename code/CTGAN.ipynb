{
 "cells": [
  {
   "cell_type": "markdown",
   "id": "3d0bde7c",
   "metadata": {
    "tags": []
   },
   "source": [
    "# CT GAN Implementation"
   ]
  },
  {
   "cell_type": "markdown",
   "id": "68e9fe59",
   "metadata": {},
   "source": [
    "Outputs and Results cleared due to NDA with AWS"
   ]
  },
  {
   "cell_type": "code",
   "execution_count": null,
   "id": "d547f2d1",
   "metadata": {},
   "outputs": [],
   "source": [
    "!pip install table_evaluator\n",
    "!pip install tabulate\n",
    "!pip install pyathena"
   ]
  },
  {
   "cell_type": "code",
   "execution_count": null,
   "id": "40be9e3a-ec22-47e8-8130-da43094b2d5f",
   "metadata": {
    "tags": []
   },
   "outputs": [],
   "source": [
    "from pyathena import connect\n",
    "from pyathena.pandas.cursor import PandasCursor\n",
    "import pandas as pd\n",
    "import numpy as np"
   ]
  },
  {
   "cell_type": "code",
   "execution_count": null,
   "id": "3b52a39d-e24b-41b8-b24b-90fda2dfaf05",
   "metadata": {
    "tags": []
   },
   "outputs": [],
   "source": [
    "def run_athena_query(query, print_out=False):\n",
    "    cursor = connect(\n",
    "        region_name='us-west-2',\n",
    "        work_group=\"primary\",\n",
    "        cursor_class=PandasCursor).cursor()\n",
    "\n",
    "    df = cursor.execute(query).as_pandas()\n",
    "\n",
    "    if print_out:\n",
    "        print(df.to_markdown(index=False))\n",
    "\n",
    "    return df"
   ]
  },
  {
   "cell_type": "code",
   "execution_count": null,
   "id": "db1422d0-a084-49bc-8114-9c8af7f780c6",
   "metadata": {
    "tags": []
   },
   "outputs": [],
   "source": [
    "query = \"select * from AwsDataCatalog.uwdatascience2023.full_harddrivetraffic limit 70000\""
   ]
  },
  {
   "cell_type": "code",
   "execution_count": null,
   "id": "5e455752-aa8c-47c3-b1ab-99f2c643625c",
   "metadata": {
    "tags": []
   },
   "outputs": [],
   "source": [
    "athena_df = run_athena_query(query, print_out=False)"
   ]
  },
  {
   "cell_type": "code",
   "execution_count": null,
   "id": "3cdf1601-589a-4e27-b4c5-1bcc1c168e32",
   "metadata": {
    "tags": []
   },
   "outputs": [],
   "source": [
    "athena_df.head()"
   ]
  },
  {
   "cell_type": "code",
   "execution_count": null,
   "id": "5607655f-85d7-4a02-b12d-f46f669d391a",
   "metadata": {
    "tags": []
   },
   "outputs": [],
   "source": [
    "df = athena_df.sort_values(by=['chunk_id', 'timestamp_nano'])\n",
    "df['container_group'] = df.groupby('chunk_id')['container_group'].ffill()\n",
    "df['container_encoding'] = df.groupby('chunk_id')['container_encoding'].ffill()\n",
    "df['chunk_size'] = df.groupby('chunk_id')['chunk_size'].ffill()\n",
    "df.dropna(inplace=True)"
   ]
  },
  {
   "cell_type": "code",
   "execution_count": null,
   "id": "b687ed07-e813-40b3-a665-3e117d754d44",
   "metadata": {
    "tags": []
   },
   "outputs": [],
   "source": [
    "df['datetime_column'] = pd.to_datetime(df['timestamp_nano'], unit='ns')\n",
    "df.drop(columns=['timestamp_nano'], inplace=True)"
   ]
  },
  {
   "cell_type": "code",
   "execution_count": null,
   "id": "18916541-2b8b-4e14-bb2b-768f1b20b747",
   "metadata": {
    "tags": []
   },
   "outputs": [],
   "source": [
    "df['chunk_size'] = df['chunk_size'].astype(int)"
   ]
  },
  {
   "cell_type": "code",
   "execution_count": null,
   "id": "7248346f-3e60-42b7-bf2a-5a0df79e26e8",
   "metadata": {
    "tags": []
   },
   "outputs": [],
   "source": [
    "# Dropping month_end and datetime_column\n",
    "columns_to_delete = ['month_end']\n",
    "train_data.drop(columns=columns_to_delete, inplace=True)"
   ]
  },
  {
   "cell_type": "code",
   "execution_count": null,
   "id": "a88d4edf-f9ce-47ee-af13-2737c98547b2",
   "metadata": {
    "tags": []
   },
   "outputs": [],
   "source": [
    "# Grouping by 'container_group' and aggregating 'container_id' into a list\n",
    "grouped_data = train_data.groupby('container_group')['container_id'].agg(list).reset_index()\n",
    "\n",
    "# Creating a dictionary from the grouped data\n",
    "container_dict = dict(zip(grouped_data['container_group'], grouped_data['container_id']))"
   ]
  },
  {
   "cell_type": "code",
   "execution_count": null,
   "id": "53da9ce1-0f78-46a2-9d57-4d55af18165b",
   "metadata": {
    "tags": []
   },
   "outputs": [],
   "source": [
    "# Extract only the date part and keep the column name and datatype unchanged\n",
    "train_data['datetime_column'] = train_data['datetime_column'].dt.strftime('%Y-%m-%d')\n",
    "\n",
    "# Convert the 'datetime_column' to datetime format\n",
    "train_data['datetime_column'] = pd.to_datetime(train_data['datetime_column'])"
   ]
  },
  {
   "cell_type": "code",
   "execution_count": null,
   "id": "9a8a2992-ffb2-45bc-993c-01bdbcc834b1",
   "metadata": {
    "tags": []
   },
   "outputs": [],
   "source": [
    "df.describe()"
   ]
  },
  {
   "cell_type": "code",
   "execution_count": null,
   "id": "073742fb-597c-4f1b-95a4-b9ad6cf2e132",
   "metadata": {
    "tags": []
   },
   "outputs": [],
   "source": [
    "features = ['timestamp_nano', 'location_id', 'server_id', 'config_id', 'disk_id', 'container_id', 'container_group', 'container_encoding', 'operation', 'chunk_id', 'chunk_size']"
   ]
  },
  {
   "cell_type": "code",
   "execution_count": null,
   "id": "d768f3cb-4eaa-4f60-8247-d2b954c365fa",
   "metadata": {
    "tags": []
   },
   "outputs": [],
   "source": [
    "train_percentage = 1\n",
    "split_index = int(len(df) * train_percentage)\n",
    "train_data = df.iloc[:split_index, :]"
   ]
  },
  {
   "cell_type": "code",
   "execution_count": null,
   "id": "4c0d914b-110d-4844-8af5-e78134d7e2b7",
   "metadata": {
    "tags": []
   },
   "outputs": [],
   "source": [
    "train_data.dtypes"
   ]
  },
  {
   "cell_type": "code",
   "execution_count": null,
   "id": "db856b00-4232-4255-aef3-73d306705416",
   "metadata": {
    "tags": []
   },
   "outputs": [],
   "source": [
    "!pip install sdv"
   ]
  },
  {
   "cell_type": "code",
   "execution_count": null,
   "id": "8a6e65d9-8f13-463d-9558-c593800b579e",
   "metadata": {
    "tags": []
   },
   "outputs": [],
   "source": [
    "from sdv.metadata import SingleTableMetadata"
   ]
  },
  {
   "cell_type": "code",
   "execution_count": null,
   "id": "08bbcd55-ee6f-44e1-83ef-dfdb6c00b2bc",
   "metadata": {
    "tags": []
   },
   "outputs": [],
   "source": [
    "metadata = SingleTableMetadata()\n",
    "metadata.detect_from_dataframe(train_data)"
   ]
  },
  {
   "cell_type": "code",
   "execution_count": null,
   "id": "4e6de462-3073-4bf8-bc67-988d226eda0c",
   "metadata": {
    "tags": []
   },
   "outputs": [],
   "source": [
    "metadata"
   ]
  },
  {
   "cell_type": "code",
   "execution_count": null,
   "id": "f2af6ef8-566a-4fd5-afd6-8e0a31856869",
   "metadata": {
    "tags": []
   },
   "outputs": [],
   "source": [
    "metadata.update_column(\n",
    "    column_name='container_id',\n",
    "    sdtype='categorical')"
   ]
  },
  {
   "cell_type": "code",
   "execution_count": null,
   "id": "d1f422f6-60b8-4365-b4b4-f0d927094f5f",
   "metadata": {
    "tags": []
   },
   "outputs": [],
   "source": [
    "metadata.update_column(\n",
    "    column_name='chunk_id',\n",
    "    sdtype='categorical')"
   ]
  },
  {
   "cell_type": "code",
   "execution_count": null,
   "id": "30edca40-18cf-45d9-a8c1-8692de7f115f",
   "metadata": {
    "tags": []
   },
   "outputs": [],
   "source": [
    "metadata.update_column(\n",
    "    column_name='disk_capacity_tb',\n",
    "    sdtype='categorical')"
   ]
  },
  {
   "cell_type": "code",
   "execution_count": null,
   "id": "d7df082f-e163-4499-a161-789e0be20cf2",
   "metadata": {
    "tags": []
   },
   "outputs": [],
   "source": [
    "from sdv.single_table import CTGANSynthesizer"
   ]
  },
  {
   "cell_type": "code",
   "execution_count": null,
   "id": "d2a8c24b-2a89-4094-b955-c7a9f5a27098",
   "metadata": {
    "tags": []
   },
   "outputs": [],
   "source": [
    "len(train_data)"
   ]
  },
  {
   "cell_type": "code",
   "execution_count": null,
   "id": "2912fffb-26af-4f34-81ef-25462e289b58",
   "metadata": {
    "tags": []
   },
   "outputs": [],
   "source": [
    "synthesizer = CTGANSynthesizer(metadata, \n",
    "                               enforce_rounding=False,\n",
    "                               epochs=30,\n",
    "                               verbose=True)"
   ]
  },
  {
   "cell_type": "code",
   "execution_count": null,
   "id": "51f84764-232f-4b8f-8dc3-2b0640d97c9a",
   "metadata": {
    "tags": []
   },
   "outputs": [],
   "source": [
    "synthesizer.fit(train_data)"
   ]
  },
  {
   "cell_type": "code",
   "execution_count": null,
   "id": "9762b020-2d77-4b6f-bda5-e5011dc3e89f",
   "metadata": {
    "tags": []
   },
   "outputs": [],
   "source": [
    "s_data = synthesizer.sample(num_rows=500, batch_size=10)"
   ]
  },
  {
   "cell_type": "code",
   "execution_count": null,
   "id": "5f6e9de6-7e4d-486c-ad88-18530bd4a723",
   "metadata": {
    "tags": []
   },
   "outputs": [],
   "source": [
    "s_data"
   ]
  },
  {
   "cell_type": "code",
   "execution_count": null,
   "id": "339001aa-f4ed-4d98-85c1-bf6ee3cd9d40",
   "metadata": {},
   "outputs": [],
   "source": [
    "train_data.groupby('container_group').count()"
   ]
  },
  {
   "cell_type": "code",
   "execution_count": null,
   "id": "8c230b75-32c0-49c9-b9d0-f5eccce9e144",
   "metadata": {
    "tags": []
   },
   "outputs": [],
   "source": [
    "s_data.groupby('container_group').count()"
   ]
  },
  {
   "cell_type": "code",
   "execution_count": null,
   "id": "394f7d9e-59de-418e-b7fc-62b17cb8cc35",
   "metadata": {
    "tags": []
   },
   "outputs": [],
   "source": [
    "from sdv.evaluation.single_table import run_diagnostic, evaluate_quality\n",
    "from sdv.evaluation.single_table import get_column_plot\n",
    "\n",
    "# 1. perform basic validity checks\n",
    "diagnostic = run_diagnostic(train_data, s_data, metadata)\n",
    "\n",
    "# 2. measure the statistical similarity\n",
    "quality_report = evaluate_quality(train_data, s_data, metadata)"
   ]
  },
  {
   "cell_type": "code",
   "execution_count": null,
   "id": "c4694656-4c7a-4f26-99d5-052c7e0f8357",
   "metadata": {},
   "outputs": [],
   "source": [
    "fig = get_column_plot(\n",
    "    real_data=train_data,\n",
    "    synthetic_data=s_data,\n",
    "    metadata=metadata,\n",
    "    column_name='container_group'\n",
    ")\n",
    "    \n",
    "fig.show()"
   ]
  },
  {
   "cell_type": "code",
   "execution_count": null,
   "id": "a2535eb5-5493-47ae-84c7-e490650353ad",
   "metadata": {
    "tags": []
   },
   "outputs": [],
   "source": [
    "fig = get_column_plot(\n",
    "    real_data=train_data,\n",
    "    synthetic_data=s_data,\n",
    "    metadata=metadata,\n",
    "    column_name='config_id'\n",
    ")\n",
    "    \n",
    "fig.show()"
   ]
  },
  {
   "cell_type": "code",
   "execution_count": null,
   "id": "f6f0909f-2711-442f-9b76-41bc27f8ba74",
   "metadata": {},
   "outputs": [],
   "source": [
    "fig = get_column_plot(\n",
    "    real_data=train_data,\n",
    "    synthetic_data=s_data,\n",
    "    metadata=metadata,\n",
    "    column_name='disk_capacity_tb'\n",
    "    \n",
    ")\n",
    "fig.update_layout(title='Real vs. Synthetic Data for Disk_capacity_TB')    \n",
    "fig.show()"
   ]
  },
  {
   "cell_type": "code",
   "execution_count": null,
   "id": "18b1b380-6396-4146-853a-0c725bfd3cb6",
   "metadata": {
    "tags": []
   },
   "outputs": [],
   "source": [
    "# plot the data\n",
    "fig_operation = get_column_plot(\n",
    "    real_data=train_data,\n",
    "    synthetic_data=s_data,\n",
    "    metadata=metadata,\n",
    "    column_name='operation'\n",
    ")\n",
    "\n",
    "fig_operation.update_layout(xaxis=dict(tickangle=0))\n",
    "fig_operation.update_layout(xaxis=dict(tickfont=dict(size=17)))\n",
    "fig_operation.show()"
   ]
  },
  {
   "cell_type": "code",
   "execution_count": null,
   "id": "136c3a36-8136-41aa-a44a-e9026658df9a",
   "metadata": {
    "tags": []
   },
   "outputs": [],
   "source": [
    "# Assuming you are using Plotly for visualization\n",
    "import plotly.graph_objects as go\n",
    "from sdv.evaluation.single_table import get_column_plot\n",
    "\n",
    "fig_operation = get_column_plot(\n",
    "    real_data=train_data,\n",
    "    synthetic_data=s_data,\n",
    "    metadata=metadata,\n",
    "    column_name='operation'\n",
    ")\n",
    "\n",
    "# Extracting the color of the bars\n",
    "default_color = fig_operation.data[0].marker.color\n",
    "\n",
    "print(\"Default color of the bar chart:\", default_color)"
   ]
  },
  {
   "cell_type": "code",
   "execution_count": null,
   "id": "2250b878-de34-41f1-a7ab-3b400222c9b2",
   "metadata": {
    "tags": []
   },
   "outputs": [],
   "source": [
    "fig = get_column_plot(\n",
    "    real_data=train_data,\n",
    "    synthetic_data=s_data,\n",
    "    metadata=metadata,\n",
    "    column_name='chunk_size'\n",
    ")    \n",
    "fig.show()"
   ]
  },
  {
   "cell_type": "code",
   "execution_count": null,
   "id": "105369be-549b-4b25-8edc-e906abc0a6c8",
   "metadata": {
    "tags": []
   },
   "outputs": [],
   "source": [
    "!pip install sdmetrics"
   ]
  },
  {
   "cell_type": "code",
   "execution_count": null,
   "id": "319969e8-82ca-47ac-beba-a4cc4b114718",
   "metadata": {
    "tags": []
   },
   "outputs": [],
   "source": [
    "from sdmetrics.reports.single_table import QualityReport"
   ]
  },
  {
   "cell_type": "code",
   "execution_count": null,
   "id": "ffeae019-1123-4dd4-abab-f9ce37493cd2",
   "metadata": {
    "tags": []
   },
   "outputs": [],
   "source": [
    "report = QualityReport()"
   ]
  },
  {
   "cell_type": "code",
   "execution_count": null,
   "id": "498ef813-84fb-470b-bcbe-80418f33ac53",
   "metadata": {
    "tags": []
   },
   "outputs": [],
   "source": [
    "train_data_copy = train_data"
   ]
  },
  {
   "cell_type": "code",
   "execution_count": null,
   "id": "acfb0913-cba8-485b-ab60-942d5f5d7a56",
   "metadata": {
    "tags": []
   },
   "outputs": [],
   "source": [
    "train_data_copy.columns"
   ]
  },
  {
   "cell_type": "code",
   "execution_count": null,
   "id": "59c1ec73-e1d5-48b9-b07d-6a5191621631",
   "metadata": {
    "tags": []
   },
   "outputs": [],
   "source": [
    "s_data_copy = s_data"
   ]
  },
  {
   "cell_type": "code",
   "execution_count": null,
   "id": "c35e6851-8216-4157-b1cd-b5b573431e9a",
   "metadata": {
    "tags": []
   },
   "outputs": [],
   "source": [
    "metadata_copy = SingleTableMetadata()\n",
    "metadata_copy.detect_from_dataframe(train_data_copy)"
   ]
  },
  {
   "cell_type": "code",
   "execution_count": null,
   "id": "621667c3-7f7f-474d-9c7f-9037ddfe81af",
   "metadata": {
    "tags": []
   },
   "outputs": [],
   "source": [
    "metadata_copy.update_column(\n",
    "    column_name='container_id',\n",
    "    sdtype='categorical')"
   ]
  },
  {
   "cell_type": "code",
   "execution_count": null,
   "id": "1790c991-4032-450e-b8ce-6dcc62e2b115",
   "metadata": {
    "tags": []
   },
   "outputs": [],
   "source": [
    "metadata_copy.update_column(\n",
    "    column_name='chunk_id',\n",
    "    sdtype='categorical')"
   ]
  },
  {
   "cell_type": "code",
   "execution_count": null,
   "id": "a8573acd-394e-48cb-b5d7-a9d30060e8dd",
   "metadata": {
    "tags": []
   },
   "outputs": [],
   "source": [
    "metadata_copy.update_column(\n",
    "    column_name='disk_capacity_tb',\n",
    "    sdtype='categorical')"
   ]
  },
  {
   "cell_type": "code",
   "execution_count": null,
   "id": "3c23a569-eb6b-4ea5-ba0c-a723e5caff73",
   "metadata": {
    "tags": []
   },
   "outputs": [],
   "source": [
    "metadata_copy"
   ]
  },
  {
   "cell_type": "code",
   "execution_count": null,
   "id": "b2331e5f-499a-46a7-9ecc-6b8e01e01643",
   "metadata": {
    "tags": []
   },
   "outputs": [],
   "source": [
    "report.generate(train_data_copy.sample(n=2000), s_data_copy, metadata_copy.to_dict())"
   ]
  },
  {
   "cell_type": "code",
   "execution_count": null,
   "id": "93ca1ab2-af69-4581-a611-3bc4d61a562d",
   "metadata": {
    "tags": []
   },
   "outputs": [],
   "source": [
    "report.get_properties()"
   ]
  },
  {
   "cell_type": "code",
   "execution_count": null,
   "id": "14f0b3a2-7dd3-4ed1-8914-9790065cd3b1",
   "metadata": {
    "tags": []
   },
   "outputs": [],
   "source": [
    "report.get_details(property_name='Column Shapes')"
   ]
  },
  {
   "cell_type": "code",
   "execution_count": null,
   "id": "1f81ce03-8127-40bc-8073-f2aaff6fd1b2",
   "metadata": {
    "tags": []
   },
   "outputs": [],
   "source": [
    "from sdmetrics.reports.single_table import QualityReport"
   ]
  },
  {
   "cell_type": "code",
   "execution_count": null,
   "id": "0f94b724-a816-41ee-92b3-eb850affb060",
   "metadata": {
    "tags": []
   },
   "outputs": [],
   "source": [
    "fig = report.get_visualization(property_name='Column Shapes')\n",
    "\n",
    "# Remove the column 'month_end' from the x-axis\n",
    "filtered_data = [trace for trace in fig.data if trace.name != 'month_end']\n",
    "\n",
    "# Update the data in the figure\n",
    "fig.data = filtered_data\n",
    "\n",
    "# Update the title of the plot\n",
    "fig.update_layout(title='Data Quality CTGAN: Column Shapes (Average Score = 0.69)')\n",
    "\n",
    "# Find the index of the trace corresponding to TVComplement\n",
    "tvcomplement_index = None\n",
    "for i, trace in enumerate(fig.data):\n",
    "    if trace.name == 'TVComplement':\n",
    "        tvcomplement_index = i\n",
    "        break\n",
    "\n",
    "# Update the color of the bars represented by TVComplement\n",
    "if tvcomplement_index is not None:\n",
    "    fig.data[tvcomplement_index].marker.color = '#00e1c9'\n",
    "\n",
    "fig.show()\n",
    "\n"
   ]
  },
  {
   "cell_type": "markdown",
   "id": "457b000b-0a60-4f2b-8886-82166092a04e",
   "metadata": {},
   "source": [
    "Conditional Smapling for the sythetic data"
   ]
  },
  {
   "cell_type": "code",
   "execution_count": null,
   "id": "1c26eda0-aad4-4c59-883c-8ea8e46c7d8e",
   "metadata": {
    "tags": []
   },
   "outputs": [],
   "source": [
    "# Conditional Sampling\n",
    "from sdv.sampling import Condition\n",
    "from datetime import datetime, timedelta\n",
    "from datetime import timedelta\n",
    "import random"
   ]
  },
  {
   "cell_type": "code",
   "execution_count": null,
   "id": "f0fa0827-5bc9-4eaf-9eb2-795193e72f8d",
   "metadata": {
    "tags": []
   },
   "outputs": [],
   "source": [
    "# wrapper function to pass al the arguments in\n",
    "def generate_conditions(disk_capacity, container_groups, num_rows):\n",
    "    conditions = []\n",
    "    for container_group, container_id_types in container_groups.items():\n",
    "        container_ids = random.sample(container_dict[container_group], container_id_types)\n",
    "            \n",
    "        conditions.extend([Condition(num_rows=num_rows, column_values={'disk_capacity_tb': disk_capacity, 'container_group': container_group,'container_id': container_id})\n",
    "                            for container_id in container_ids])\n",
    "\n",
    "    return conditions"
   ]
  },
  {
   "cell_type": "code",
   "execution_count": null,
   "id": "ac3f7e13-0d12-49c1-9001-ddef2938aba8",
   "metadata": {
    "tags": []
   },
   "outputs": [],
   "source": [
    "train_data['datetime_column'].describe()"
   ]
  },
  {
   "cell_type": "code",
   "execution_count": null,
   "id": "08110364-41c4-4fa2-b597-0427d2f8f70b",
   "metadata": {
    "tags": []
   },
   "outputs": [],
   "source": [
    "train_data['disk_capacity_tb'].describe()"
   ]
  },
  {
   "cell_type": "code",
   "execution_count": null,
   "id": "3cc5b0f9-528f-4464-8807-4405077b2e44",
   "metadata": {
    "tags": []
   },
   "outputs": [],
   "source": [
    "list(train_data['container_group'].unique())"
   ]
  },
  {
   "cell_type": "code",
   "execution_count": null,
   "id": "3374973b-52aa-4da3-9c75-d64450a2439e",
   "metadata": {
    "tags": []
   },
   "outputs": [],
   "source": [
    "# defining variables to be passed to the synthesizer\n",
    "start_date = datetime.strptime('2022-02-01', '%Y-%m-%d')\n",
    "end_date = datetime.strptime('2022-02-02', '%Y-%m-%d')\n",
    "disk_capacity = 16\n",
    "# this translates to I want 2 container_ids of type X and 3 container_ids of type Y\n",
    "container_groups = {'02892102A8F17B5A551466B444222F4C3D9A399F':2, 'CC21F742BC91C1A0ED11A719D5C2CE74690BCD44':3}\n",
    "num_rows = 100"
   ]
  },
  {
   "cell_type": "code",
   "execution_count": null,
   "id": "202317aa-626c-432f-9411-45f4be70f7fe",
   "metadata": {
    "tags": []
   },
   "outputs": [],
   "source": [
    "conditions = generate_conditions(disk_capacity, container_groups, num_rows)"
   ]
  },
  {
   "cell_type": "code",
   "execution_count": null,
   "id": "6344f4e5-2b66-4ebb-8f76-e449f0913151",
   "metadata": {
    "tags": []
   },
   "outputs": [],
   "source": [
    "len(conditions)"
   ]
  },
  {
   "cell_type": "code",
   "execution_count": null,
   "id": "225a0673-b12f-4fcc-849e-0086837f04fa",
   "metadata": {
    "tags": []
   },
   "outputs": [],
   "source": [
    "conditional_synthetic_data = synthesizer.sample_from_conditions(conditions=conditions)"
   ]
  },
  {
   "cell_type": "code",
   "execution_count": null,
   "id": "1b4ced32-b31b-40fe-8c04-447c4586366b",
   "metadata": {
    "tags": []
   },
   "outputs": [],
   "source": [
    "conditional_synthetic_data"
   ]
  },
  {
   "cell_type": "code",
   "execution_count": null,
   "id": "d367b806-0521-4e70-ab7b-ec4a6df07cca",
   "metadata": {},
   "outputs": [],
   "source": [
    "report.get_details(property_name='Column Shapes')"
   ]
  }
 ],
 "metadata": {
  "kernelspec": {
   "display_name": "conda_python3",
   "language": "python",
   "name": "conda_python3"
  },
  "language_info": {
   "codemirror_mode": {
    "name": "ipython",
    "version": 3
   },
   "file_extension": ".py",
   "mimetype": "text/x-python",
   "name": "python",
   "nbconvert_exporter": "python",
   "pygments_lexer": "ipython3",
   "version": "3.10.13"
  }
 },
 "nbformat": 4,
 "nbformat_minor": 5
}
